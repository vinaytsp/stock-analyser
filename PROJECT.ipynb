{
 "cells": [
  {
   "cell_type": "code",
   "execution_count": 169,
   "metadata": {},
   "outputs": [],
   "source": [
    "import pandas_datareader as web\n",
    "import plotly.graph_objects as go\n",
    "import plotly.express as px\n",
    "import matplotlib.pyplot as plt\n",
    "from matplotlib import style\n",
    "style.use('ggplot')\n",
    "from matplotlib.backends.backend_tkagg import FigureCanvasTkAgg"
   ]
  },
  {
   "cell_type": "code",
   "execution_count": null,
   "metadata": {},
   "outputs": [],
   "source": []
  },
  {
   "cell_type": "code",
   "execution_count": 170,
   "metadata": {},
   "outputs": [],
   "source": [
    "def MAX_VOL():\n",
    "    ticker=Entry1.get()\n",
    "    Start=Entry2.get()\n",
    "    End=Entry3.get()\n",
    "    df=web.DataReader(ticker,data_source='yahoo',start=Start,end=End)\n",
    "    return round(df['Volume'].max())\n",
    "    "
   ]
  },
  {
   "cell_type": "code",
   "execution_count": 171,
   "metadata": {},
   "outputs": [],
   "source": [
    "def MIN_VOL():\n",
    "    ticker=Entry1.get()\n",
    "    Start=Entry2.get()\n",
    "    End=Entry3.get()\n",
    "    df=web.DataReader(ticker,data_source='yahoo',start=Start,end=End)\n",
    "    return round(df['Volume'].min())"
   ]
  },
  {
   "cell_type": "code",
   "execution_count": 172,
   "metadata": {},
   "outputs": [],
   "source": [
    "def MAX():\n",
    "    ticker=Entry1.get()\n",
    "    Start=Entry2.get()\n",
    "    End=Entry3.get()\n",
    "    df=web.DataReader(ticker,data_source='yahoo',start=Start,end=End)\n",
    "    return round(df['Close'].max())\n",
    "    "
   ]
  },
  {
   "cell_type": "code",
   "execution_count": 173,
   "metadata": {},
   "outputs": [],
   "source": [
    "def MIN():\n",
    "    ticker=Entry1.get()\n",
    "    Start=Entry2.get()\n",
    "    End=Entry3.get()\n",
    "    df=web.DataReader(ticker,data_source='yahoo',start=Start,end=End)\n",
    "    return round(df['Close'].min())"
   ]
  },
  {
   "cell_type": "code",
   "execution_count": 174,
   "metadata": {},
   "outputs": [],
   "source": [
    "def CLOSE():\n",
    "    import tkinter as tk\n",
    "    from pandas import DataFrame\n",
    "    import matplotlib.pyplot as plt\n",
    "    from matplotlib.backends.backend_tkagg import FigureCanvasTkAgg\n",
    " \n",
    "    ticker=Entry1.get()\n",
    "    Start=Entry2.get()\n",
    "    End=Entry3.get()\n",
    "    df=web.DataReader(ticker,data_source='yahoo',start=Start,end=End)\n",
    "    \n",
    "    root= tk.Tk() \n",
    "    df=web.DataReader(ticker,data_source='yahoo',start=Start,end=End)\n",
    "    figure = plt.Figure(figsize=(6,5), dpi=100)\n",
    "    ax = figure.add_subplot(111)\n",
    "    chart_type = FigureCanvasTkAgg(figure, root)\n",
    "    chart_type.get_tk_widget().pack()\n",
    "    df2 = df[['Close']]\n",
    "    df2.plot(kind='line', legend=True, ax=ax)\n",
    "    ax.set_title('close')\n",
    "    \n",
    "    \n",
    "    \n",
    "    \n",
    "    root.mainloop()\n",
    "    "
   ]
  },
  {
   "cell_type": "code",
   "execution_count": 175,
   "metadata": {},
   "outputs": [],
   "source": [
    "def VOLUME():\n",
    "    import tkinter as tk\n",
    "    from pandas import DataFrame\n",
    "    import matplotlib.pyplot as plt\n",
    "    from matplotlib.backends.backend_tkagg import FigureCanvasTkAgg\n",
    " \n",
    "    ticker=Entry1.get()\n",
    "    Start=Entry2.get()\n",
    "    End=Entry3.get()\n",
    "    df=web.DataReader(ticker,data_source='yahoo',start=Start,end=End)\n",
    "    \n",
    "    root= tk.Tk() \n",
    "    df=web.DataReader(ticker,data_source='yahoo',start=Start,end=End)\n",
    "    figure = plt.Figure(figsize=(6,5), dpi=100)\n",
    "    ax = figure.add_subplot(111)\n",
    "    chart_type = FigureCanvasTkAgg(figure, root)\n",
    "    chart_type.get_tk_widget().pack()\n",
    "    df2 = df[['Volume']]\n",
    "    df2.plot(kind='line', legend=True, ax=ax)\n",
    "    ax.set_title('Volume')\n",
    "    \n",
    "    \n",
    "    \n",
    "    \n",
    "    root.mainloop()\n",
    "    "
   ]
  },
  {
   "cell_type": "code",
   "execution_count": 176,
   "metadata": {},
   "outputs": [],
   "source": [
    "def PLOT():\n",
    "    ticker=Entry1.get()\n",
    "    Start=Entry2.get()\n",
    "    End=Entry3.get()\n",
    "    df=web.DataReader(ticker,data_source='yahoo',start=Start,end=End)\n",
    "    fig2=px.line(df,x=df.index,y=df['Open'])\n",
    "    fig2.show()\n",
    "    fig3=px.line(df,x=df.index,y=df['Close'])\n",
    "    fig3.show()\n",
    "    "
   ]
  },
  {
   "cell_type": "code",
   "execution_count": 177,
   "metadata": {},
   "outputs": [],
   "source": [
    "def OPEN():\n",
    "    import tkinter as tk\n",
    "    from pandas import DataFrame\n",
    "    import matplotlib.pyplot as plt\n",
    "    from matplotlib.backends.backend_tkagg import FigureCanvasTkAgg\n",
    " \n",
    "    ticker=Entry1.get()\n",
    "    Start=Entry2.get()\n",
    "    End=Entry3.get()\n",
    "    df=web.DataReader(ticker,data_source='yahoo',start=Start,end=End)\n",
    "    \n",
    "    root= tk.Tk() \n",
    "    df=web.DataReader(ticker,data_source='yahoo',start=Start,end=End)\n",
    "    figure = plt.Figure(figsize=(6,5), dpi=100)\n",
    "    ax = figure.add_subplot(111)\n",
    "    chart_type = FigureCanvasTkAgg(figure, root)\n",
    "    chart_type.get_tk_widget().pack()\n",
    "    df2 = df[['Open']]\n",
    "    df2.plot(kind='line', legend=True, ax=ax)\n",
    "    ax.set_title('open')\n",
    "    \n",
    "    \n",
    "    \n",
    "    \n",
    "    root.mainloop()\n",
    "    "
   ]
  },
  {
   "cell_type": "code",
   "execution_count": 178,
   "metadata": {},
   "outputs": [],
   "source": [
    "def predict():\n",
    "    pass"
   ]
  },
  {
   "cell_type": "code",
   "execution_count": null,
   "metadata": {},
   "outputs": [],
   "source": [
    "from tkinter import *\n",
    "root = Tk()\n",
    "canvas1 = Canvas(root, width = 400, height = 400)\n",
    "Entry1=Entry(root)\n",
    "Entry2=Entry(root)\n",
    "Entry3=Entry(root)\n",
    "\n",
    "\n",
    "\n",
    "def eval_max():\n",
    "    res.configure(text = \"MAX: \" + str(MAX()) + \"  MAX VOL:\" + str(MAX_VOL()))\n",
    "def eval_min():\n",
    "    res.configure(text = \"MIN: \" + str(MIN()) + \"  MIN VOL:\" + str(MIN_VOL()))\n",
    "def print_pred():\n",
    "    res.configure(text = \"Predicted:\" + str(predict()))\n",
    "\n",
    "\n",
    "button1=Button(root,text='plot close',command=CLOSE)\n",
    "button2=Button(root,text='plot open',command=OPEN)\n",
    "button3=Button(root,text='max',command=eval_max)\n",
    "button4=Button(root,text='min',command=eval_min)\n",
    "button5=Button(root,text='all graph',command=PLOT)\n",
    "button6=Button(root,text='Volume',command=VOLUME)\n",
    "button7=Button(root,text='predict',command=print_pred)\n",
    "\n",
    "\n",
    "\n",
    "\n",
    "label1=Label(root,text='Enter the company ticker')\n",
    "label2=Label(root,text='Enter the start date')\n",
    "label3=Label(root,text='Enter the end date')\n",
    "res=Label(root,text='result')\n",
    "\n",
    "\n",
    "\n",
    "canvas1.create_window(200, 100,window=label1)\n",
    "canvas1.create_window(200, 140,window=label2)\n",
    "canvas1.create_window(200, 180,window=label3)\n",
    "canvas1.create_window(110, 240,window=button1)\n",
    "canvas1.create_window(290, 240,window=button2)\n",
    "canvas1.create_window(220, 240,window=button3)\n",
    "canvas1.create_window(180, 240,window=button4)\n",
    "canvas1.create_window(270, 270,window=button5)\n",
    "canvas1.create_window(150, 270,window=button6)\n",
    "canvas1.create_window(210, 270,window=button7)\n",
    "canvas1.create_window(200, 120, window=Entry1)\n",
    "canvas1.create_window(200, 160, window=Entry2)\n",
    "canvas1.create_window(200, 200, window=Entry3)\n",
    "canvas1.create_window(200, 300,window=res)\n",
    "\n",
    "canvas1.pack()\n",
    "root.geometry('700x500')\n",
    "root.title('Stock Market analyser')\n",
    "root.mainloop()"
   ]
  },
  {
   "cell_type": "code",
   "execution_count": null,
   "metadata": {},
   "outputs": [],
   "source": []
  }
 ],
 "metadata": {
  "kernelspec": {
   "display_name": "Python 3",
   "language": "python",
   "name": "python3"
  },
  "language_info": {
   "codemirror_mode": {
    "name": "ipython",
    "version": 3
   },
   "file_extension": ".py",
   "mimetype": "text/x-python",
   "name": "python",
   "nbconvert_exporter": "python",
   "pygments_lexer": "ipython3",
   "version": "3.7.4"
  }
 },
 "nbformat": 4,
 "nbformat_minor": 2
}
