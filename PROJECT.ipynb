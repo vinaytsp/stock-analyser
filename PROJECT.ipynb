{
 "cells": [
  {
   "cell_type": "code",
   "execution_count": 1,
   "metadata": {},
   "outputs": [],
   "source": [
    "import pandas_datareader as web\n",
    "import plotly.graph_objects as go\n",
    "import plotly.express as px\n",
    "import matplotlib.pyplot as plt\n",
    "from matplotlib import style\n",
    "style.use('ggplot')\n",
    "from matplotlib.backends.backend_tkagg import FigureCanvasTkAgg"
   ]
  },
  {
   "cell_type": "code",
   "execution_count": null,
   "metadata": {},
   "outputs": [
    {
     "name": "stderr",
     "output_type": "stream",
     "text": [
      "Exception in Tkinter callback\n",
      "Traceback (most recent call last):\n",
      "  File \"C:\\Users\\VINAY\\Anaconda3\\lib\\site-packages\\pandas_datareader\\yahoo\\daily.py\", line 157, in _read_one_data\n",
      "    data = j[\"context\"][\"dispatcher\"][\"stores\"][\"HistoricalPriceStore\"]\n",
      "KeyError: 'HistoricalPriceStore'\n",
      "\n",
      "During handling of the above exception, another exception occurred:\n",
      "\n",
      "Traceback (most recent call last):\n",
      "  File \"C:\\Users\\VINAY\\Anaconda3\\lib\\tkinter\\__init__.py\", line 1705, in __call__\n",
      "    return self.func(*args)\n",
      "  File \"<ipython-input-8-bc3fe52f9886>\", line 13, in eval_min\n",
      "    res.configure(text = \"MIN: \" + str(MIN()))\n",
      "  File \"<ipython-input-5-2ba384f698bb>\", line 5, in MIN\n",
      "    df=web.DataReader(ticker,data_source='yahoo',start=Start,end=End)\n",
      "  File \"C:\\Users\\VINAY\\Anaconda3\\lib\\site-packages\\pandas\\util\\_decorators.py\", line 208, in wrapper\n",
      "    return func(*args, **kwargs)\n",
      "  File \"C:\\Users\\VINAY\\Anaconda3\\lib\\site-packages\\pandas_datareader\\data.py\", line 387, in DataReader\n",
      "    session=session,\n",
      "  File \"C:\\Users\\VINAY\\Anaconda3\\lib\\site-packages\\pandas_datareader\\base.py\", line 251, in read\n",
      "    df = self._read_one_data(self.url, params=self._get_params(self.symbols))\n",
      "  File \"C:\\Users\\VINAY\\Anaconda3\\lib\\site-packages\\pandas_datareader\\yahoo\\daily.py\", line 160, in _read_one_data\n",
      "    raise RemoteDataError(msg.format(symbol, self.__class__.__name__))\n",
      "pandas_datareader._utils.RemoteDataError: No data fetched for symbol TATAMOTORS using YahooDailyReader\n"
     ]
    }
   ],
   "source": [
    "from tkinter import *\n",
    "root = Tk()\n",
    "canvas1 = Canvas(root, width = 400, height = 400)\n",
    "Entry1=Entry(root)\n",
    "Entry2=Entry(root)\n",
    "Entry3=Entry(root)\n",
    "\n",
    "\n",
    "\n",
    "def eval_max():\n",
    "    res.configure(text = \"MAX: \" + str(MAX()))\n",
    "def eval_min():\n",
    "    res.configure(text = \"MIN: \" + str(MIN()))\n",
    "\n",
    "\n",
    "button1=Button(root,text='plot close',command=CLOSE)\n",
    "button2=Button(root,text='plot open',command=OPEN)\n",
    "button3=Button(root,text='max',command=eval_max)\n",
    "button4=Button(root,text='min',command=eval_min)\n",
    "button5=Button(root,text='graph',command=plot)\n",
    "\n",
    "\n",
    "\n",
    "\n",
    "label1=Label(root,text='Enter the company ticker')\n",
    "label2=Label(root,text='Enter the start date')\n",
    "label3=Label(root,text='Enter the end date')\n",
    "res=Label(root,text='result')\n",
    "\n",
    "\n",
    "\n",
    "canvas1.create_window(200, 100,window=label1)\n",
    "canvas1.create_window(200, 140,window=label2)\n",
    "canvas1.create_window(200, 180,window=label3)\n",
    "canvas1.create_window(110, 240,window=button1)\n",
    "canvas1.create_window(290, 240,window=button2)\n",
    "canvas1.create_window(220, 240,window=button3)\n",
    "canvas1.create_window(180, 240,window=button4)\n",
    "canvas1.create_window(200, 270,window=button5)\n",
    "canvas1.create_window(200, 120, window=Entry1)\n",
    "canvas1.create_window(200, 160, window=Entry2)\n",
    "canvas1.create_window(200, 200, window=Entry3)\n",
    "canvas1.create_window(200, 300,window=res)\n",
    "\n",
    "canvas1.pack()\n",
    "root.geometry('700x500')\n",
    "root.title('Stock Market analyser')\n",
    "root.mainloop()"
   ]
  },
  {
   "cell_type": "code",
   "execution_count": 2,
   "metadata": {},
   "outputs": [],
   "source": [
    "def CLOSE():\n",
    "    ticker=Entry1.get()\n",
    "    Start=Entry2.get()\n",
    "    End=Entry3.get()\n",
    "    df=web.DataReader(ticker,data_source='yahoo',start=Start,end=End)\n",
    "    fig1=px.line(df,x=df.index,y=df['Close'])\n",
    "    fig1.show()"
   ]
  },
  {
   "cell_type": "code",
   "execution_count": 3,
   "metadata": {},
   "outputs": [],
   "source": [
    "def OPEN():\n",
    "    ticker=Entry1.get()\n",
    "    Start=Entry2.get()\n",
    "    End=Entry3.get()\n",
    "    df=web.DataReader(ticker,data_source='yahoo',start=Start,end=End)\n",
    "    fig2=px.line(df,x=df.index,y=df['Open'])\n",
    "    fig2.show()"
   ]
  },
  {
   "cell_type": "code",
   "execution_count": 4,
   "metadata": {},
   "outputs": [],
   "source": [
    "def MAX():\n",
    "    ticker=Entry1.get()\n",
    "    Start=Entry2.get()\n",
    "    End=Entry3.get()\n",
    "    df=web.DataReader(ticker,data_source='yahoo',start=Start,end=End)\n",
    "    return round(df['Close'].max())\n",
    "    "
   ]
  },
  {
   "cell_type": "code",
   "execution_count": 5,
   "metadata": {},
   "outputs": [],
   "source": [
    "def MIN():\n",
    "    ticker=Entry1.get()\n",
    "    Start=Entry2.get()\n",
    "    End=Entry3.get()\n",
    "    df=web.DataReader(ticker,data_source='yahoo',start=Start,end=End)\n",
    "    return round(df['Close'].min())"
   ]
  },
  {
   "cell_type": "code",
   "execution_count": 6,
   "metadata": {},
   "outputs": [],
   "source": [
    "def plot():\n",
    "    root1 = Tk()\n",
    "    ticker=Entry1.get()\n",
    "    Start=Entry2.get()\n",
    "    End=Entry3.get()\n",
    "    df=web.DataReader(ticker,data_source='yahoo',start=Start,end=End)\n",
    "    figure2 = plt.Figure(figsize=(5,4), dpi=100)\n",
    "    ax2 = figure2.add_subplot(111)\n",
    "    line2 = FigureCanvasTkAgg(figure2, root)\n",
    "    \n",
    "    root1.geometry('700x500')\n",
    "    root1.mainloop()\n",
    "    "
   ]
  },
  {
   "cell_type": "code",
   "execution_count": null,
   "metadata": {},
   "outputs": [],
   "source": []
  }
 ],
 "metadata": {
  "kernelspec": {
   "display_name": "Python 3",
   "language": "python",
   "name": "python3"
  },
  "language_info": {
   "codemirror_mode": {
    "name": "ipython",
    "version": 3
   },
   "file_extension": ".py",
   "mimetype": "text/x-python",
   "name": "python",
   "nbconvert_exporter": "python",
   "pygments_lexer": "ipython3",
   "version": "3.7.4"
  }
 },
 "nbformat": 4,
 "nbformat_minor": 2
}
